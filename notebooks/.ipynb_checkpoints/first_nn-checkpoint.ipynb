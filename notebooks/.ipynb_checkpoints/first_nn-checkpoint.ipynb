{
 "cells": [
  {
   "cell_type": "markdown",
   "id": "89ef85fe",
   "metadata": {},
   "source": [
    "**Simple two layer neural network**"
   ]
  },
  {
   "cell_type": "code",
   "execution_count": 1,
   "id": "25027fb9",
   "metadata": {},
   "outputs": [],
   "source": [
    "import numpy as np"
   ]
  },
  {
   "cell_type": "code",
   "execution_count": 2,
   "id": "7051b0ea",
   "metadata": {},
   "outputs": [],
   "source": [
    "#sigmoid function\n",
    "def nonlin(x, deriv=False):\n",
    "    if(deriv == True):\n",
    "        return x*(1-x)\n",
    "    return 1/(1 + np.exp(-x))"
   ]
  },
  {
   "cell_type": "code",
   "execution_count": 3,
   "id": "68d72962",
   "metadata": {},
   "outputs": [],
   "source": [
    "x = np.array([\n",
    "    [0, 0, 1],\n",
    "    [0, 1, 1],\n",
    "    [0, 1, 0],\n",
    "    [1, 1, 1]\n",
    "])"
   ]
  },
  {
   "cell_type": "code",
   "execution_count": 4,
   "id": "2d3ccbda",
   "metadata": {},
   "outputs": [],
   "source": [
    "y = np.array([[0, 0, 1, 1]]).T"
   ]
  },
  {
   "cell_type": "code",
   "execution_count": 5,
   "id": "64c4cd27",
   "metadata": {},
   "outputs": [
    {
     "data": {
      "text/plain": [
       "array([[0, 0, 1],\n",
       "       [0, 1, 1],\n",
       "       [0, 1, 0],\n",
       "       [1, 1, 1]])"
      ]
     },
     "execution_count": 5,
     "metadata": {},
     "output_type": "execute_result"
    }
   ],
   "source": [
    "x"
   ]
  },
  {
   "cell_type": "code",
   "execution_count": 6,
   "id": "9f1d03c5",
   "metadata": {},
   "outputs": [
    {
     "data": {
      "text/plain": [
       "array([[0],\n",
       "       [0],\n",
       "       [1],\n",
       "       [1]])"
      ]
     },
     "execution_count": 6,
     "metadata": {},
     "output_type": "execute_result"
    }
   ],
   "source": [
    "y"
   ]
  },
  {
   "cell_type": "code",
   "execution_count": 8,
   "id": "375d18ea",
   "metadata": {},
   "outputs": [],
   "source": [
    "# Random values from 3 to 1\n",
    "w0 = 2 * np.random.random((3, 1)) -1"
   ]
  },
  {
   "cell_type": "code",
   "execution_count": 9,
   "id": "fa763d10",
   "metadata": {},
   "outputs": [
    {
     "data": {
      "text/plain": [
       "array([[0.59230372],\n",
       "       [0.55328182],\n",
       "       [0.35877664]])"
      ]
     },
     "execution_count": 9,
     "metadata": {},
     "output_type": "execute_result"
    }
   ],
   "source": [
    "w0"
   ]
  },
  {
   "cell_type": "code",
   "execution_count": null,
   "id": "56fc6ce0",
   "metadata": {},
   "outputs": [],
   "source": []
  }
 ],
 "metadata": {
  "kernelspec": {
   "display_name": "Python 3",
   "language": "python",
   "name": "python3"
  },
  "language_info": {
   "codemirror_mode": {
    "name": "ipython",
    "version": 3
   },
   "file_extension": ".py",
   "mimetype": "text/x-python",
   "name": "python",
   "nbconvert_exporter": "python",
   "pygments_lexer": "ipython3",
   "version": "3.8.8"
  }
 },
 "nbformat": 4,
 "nbformat_minor": 5
}
