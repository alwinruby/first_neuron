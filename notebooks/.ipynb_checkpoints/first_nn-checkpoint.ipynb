{
 "cells": [
  {
   "cell_type": "markdown",
   "id": "3b9d7668",
   "metadata": {},
   "source": [
    "**Simple two layer neural network**"
   ]
  },
  {
   "cell_type": "code",
   "execution_count": 1,
   "id": "de25597b",
   "metadata": {},
   "outputs": [],
   "source": [
    "import numpy as np"
   ]
  },
  {
   "cell_type": "code",
   "execution_count": 4,
   "id": "31ba91f3",
   "metadata": {},
   "outputs": [],
   "source": [
    "#sigmoid function\n",
    "def nonlin(x, deriv=False):\n",
    "    if(deriv == True):\n",
    "        return x*(1-x)\n",
    "    return 1/(1 + np.exp(-x))"
   ]
  },
  {
   "cell_type": "code",
   "execution_count": null,
   "id": "29c0af7b",
   "metadata": {},
   "outputs": [],
   "source": []
  }
 ],
 "metadata": {
  "kernelspec": {
   "display_name": "Python 3",
   "language": "python",
   "name": "python3"
  },
  "language_info": {
   "codemirror_mode": {
    "name": "ipython",
    "version": 3
   },
   "file_extension": ".py",
   "mimetype": "text/x-python",
   "name": "python",
   "nbconvert_exporter": "python",
   "pygments_lexer": "ipython3",
   "version": "3.8.8"
  }
 },
 "nbformat": 4,
 "nbformat_minor": 5
}
