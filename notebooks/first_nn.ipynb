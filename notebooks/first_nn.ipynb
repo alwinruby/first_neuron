{
 "cells": [
  {
   "cell_type": "markdown",
   "id": "5d261cb3",
   "metadata": {},
   "source": [
    "**Simple two layer neural network**"
   ]
  },
  {
   "cell_type": "code",
   "execution_count": 1,
   "id": "3c015ff0",
   "metadata": {},
   "outputs": [],
   "source": [
    "import numpy as np"
   ]
  },
  {
   "cell_type": "code",
   "execution_count": 2,
   "id": "a6f1a12e",
   "metadata": {},
   "outputs": [],
   "source": [
    "#sigmoid function\n",
    "def nonlin(x, deriv=False):\n",
    "    if(deriv == True):\n",
    "        return x*(1-x)\n",
    "    return 1/(1 + np.exp(-x))"
   ]
  },
  {
   "cell_type": "code",
   "execution_count": 3,
   "id": "cb0ac9c9",
   "metadata": {},
   "outputs": [],
   "source": [
    "x = np.array([\n",
    "    [0, 0, 1],\n",
    "    [0, 1, 1],\n",
    "    [0, 1, 0],\n",
    "    [1, 1, 1]\n",
    "])"
   ]
  },
  {
   "cell_type": "code",
   "execution_count": 4,
   "id": "9bfa7fb5",
   "metadata": {},
   "outputs": [],
   "source": [
    "y = np.array([[0, 0, 1, 1]]).T"
   ]
  },
  {
   "cell_type": "code",
   "execution_count": 5,
   "id": "1dffc951",
   "metadata": {},
   "outputs": [
    {
     "data": {
      "text/plain": [
       "array([[0, 0, 1],\n",
       "       [0, 1, 1],\n",
       "       [0, 1, 0],\n",
       "       [1, 1, 1]])"
      ]
     },
     "execution_count": 5,
     "metadata": {},
     "output_type": "execute_result"
    }
   ],
   "source": [
    "x"
   ]
  },
  {
   "cell_type": "code",
   "execution_count": 6,
   "id": "e3a5a789",
   "metadata": {},
   "outputs": [
    {
     "data": {
      "text/plain": [
       "array([[0],\n",
       "       [0],\n",
       "       [1],\n",
       "       [1]])"
      ]
     },
     "execution_count": 6,
     "metadata": {},
     "output_type": "execute_result"
    }
   ],
   "source": [
    "y"
   ]
  },
  {
   "cell_type": "code",
   "execution_count": 7,
   "id": "5284f42c",
   "metadata": {},
   "outputs": [],
   "source": [
    "# Random values from 3 to 1\n",
    "w0 = 2 * np.random.random((3, 1)) -1"
   ]
  },
  {
   "cell_type": "code",
   "execution_count": 8,
   "id": "8faa290c",
   "metadata": {},
   "outputs": [
    {
     "data": {
      "text/plain": [
       "array([[ 0.954704  ],\n",
       "       [-0.23941613],\n",
       "       [ 0.02620663]])"
      ]
     },
     "execution_count": 8,
     "metadata": {},
     "output_type": "execute_result"
    }
   ],
   "source": [
    "w0"
   ]
  },
  {
   "cell_type": "code",
   "execution_count": 9,
   "id": "9a20d0dc",
   "metadata": {},
   "outputs": [
    {
     "name": "stdout",
     "output_type": "stream",
     "text": [
      "Out of Training.  View the output\n",
      "[[0.03027851]\n",
      " [0.16373612]\n",
      " [0.86246101]\n",
      " [0.88494902]]\n"
     ]
    }
   ],
   "source": [
    "for input in range(100):\n",
    "    l0 = x\n",
    "    l1 = np.dot(l0, w0)\n",
    "    l1 = nonlin(l1)\n",
    "    l1_error = y - l1\n",
    "    delta_l1 = l1_error * nonlin(l1, True)\n",
    "    w0 = w0 + np.dot(l0.T, delta_l1)\n",
    "    \n",
    "print(\"Out of Training.  View the output\")\n",
    "print(l1)"
   ]
  },
  {
   "cell_type": "code",
   "execution_count": null,
   "id": "b9aa0b49",
   "metadata": {},
   "outputs": [],
   "source": []
  }
 ],
 "metadata": {
  "kernelspec": {
   "display_name": "Python 3",
   "language": "python",
   "name": "python3"
  },
  "language_info": {
   "codemirror_mode": {
    "name": "ipython",
    "version": 3
   },
   "file_extension": ".py",
   "mimetype": "text/x-python",
   "name": "python",
   "nbconvert_exporter": "python",
   "pygments_lexer": "ipython3",
   "version": "3.8.8"
  }
 },
 "nbformat": 4,
 "nbformat_minor": 5
}
